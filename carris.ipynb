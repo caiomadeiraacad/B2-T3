{
 "cells": [
  {
   "cell_type": "code",
   "execution_count": 2,
   "id": "d3dc1f13",
   "metadata": {},
   "outputs": [
    {
     "data": {
      "application/vnd.microsoft.datawrangler.viewer.v0+json": {
       "columns": [
        {
         "name": "index",
         "rawType": "int64",
         "type": "integer"
        },
        {
         "name": "DATA_CADASTRO",
         "rawType": "object",
         "type": "string"
        },
        {
         "name": "ORIGEM",
         "rawType": "object",
         "type": "string"
        },
        {
         "name": "LINHA",
         "rawType": "float64",
         "type": "float"
        },
        {
         "name": "TIPO",
         "rawType": "object",
         "type": "string"
        },
        {
         "name": "TIPO_OCORR",
         "rawType": "object",
         "type": "string"
        }
       ],
       "ref": "e4838dce-67cf-4cb0-9f4f-52e1c51416ac",
       "rows": [
        [
         "0",
         "02/01/2019",
         "VISITA",
         "0.0",
         "INFORMAÇÕES RÁPIDAS",
         "ACHADOS & PERDIDOS"
        ],
        [
         "1",
         "02/01/2019",
         "TELEFONE",
         "0.0",
         "INFORMAÇÕES RÁPIDAS",
         "ACHADOS & PERDIDOS"
        ],
        [
         "2",
         "02/01/2019",
         "TELEFONE",
         "0.0",
         "INFORMAÇÕES RÁPIDAS",
         "ACHADOS & PERDIDOS"
        ],
        [
         "3",
         "02/01/2019",
         "VISITA",
         "201.0",
         "INFORMAÇÕES RÁPIDAS",
         "ACHADOS & PERDIDOS"
        ],
        [
         "4",
         "02/01/2019",
         "TELEFONE",
         "0.0",
         "INFORMAÇÕES RÁPIDAS",
         "ACHADOS & PERDIDOS"
        ]
       ],
       "shape": {
        "columns": 5,
        "rows": 5
       }
      },
      "text/html": [
       "<div>\n",
       "<style scoped>\n",
       "    .dataframe tbody tr th:only-of-type {\n",
       "        vertical-align: middle;\n",
       "    }\n",
       "\n",
       "    .dataframe tbody tr th {\n",
       "        vertical-align: top;\n",
       "    }\n",
       "\n",
       "    .dataframe thead th {\n",
       "        text-align: right;\n",
       "    }\n",
       "</style>\n",
       "<table border=\"1\" class=\"dataframe\">\n",
       "  <thead>\n",
       "    <tr style=\"text-align: right;\">\n",
       "      <th></th>\n",
       "      <th>DATA_CADASTRO</th>\n",
       "      <th>ORIGEM</th>\n",
       "      <th>LINHA</th>\n",
       "      <th>TIPO</th>\n",
       "      <th>TIPO_OCORR</th>\n",
       "    </tr>\n",
       "  </thead>\n",
       "  <tbody>\n",
       "    <tr>\n",
       "      <th>0</th>\n",
       "      <td>02/01/2019</td>\n",
       "      <td>VISITA</td>\n",
       "      <td>0.0</td>\n",
       "      <td>INFORMAÇÕES RÁPIDAS</td>\n",
       "      <td>ACHADOS &amp; PERDIDOS</td>\n",
       "    </tr>\n",
       "    <tr>\n",
       "      <th>1</th>\n",
       "      <td>02/01/2019</td>\n",
       "      <td>TELEFONE</td>\n",
       "      <td>0.0</td>\n",
       "      <td>INFORMAÇÕES RÁPIDAS</td>\n",
       "      <td>ACHADOS &amp; PERDIDOS</td>\n",
       "    </tr>\n",
       "    <tr>\n",
       "      <th>2</th>\n",
       "      <td>02/01/2019</td>\n",
       "      <td>TELEFONE</td>\n",
       "      <td>0.0</td>\n",
       "      <td>INFORMAÇÕES RÁPIDAS</td>\n",
       "      <td>ACHADOS &amp; PERDIDOS</td>\n",
       "    </tr>\n",
       "    <tr>\n",
       "      <th>3</th>\n",
       "      <td>02/01/2019</td>\n",
       "      <td>VISITA</td>\n",
       "      <td>201.0</td>\n",
       "      <td>INFORMAÇÕES RÁPIDAS</td>\n",
       "      <td>ACHADOS &amp; PERDIDOS</td>\n",
       "    </tr>\n",
       "    <tr>\n",
       "      <th>4</th>\n",
       "      <td>02/01/2019</td>\n",
       "      <td>TELEFONE</td>\n",
       "      <td>0.0</td>\n",
       "      <td>INFORMAÇÕES RÁPIDAS</td>\n",
       "      <td>ACHADOS &amp; PERDIDOS</td>\n",
       "    </tr>\n",
       "  </tbody>\n",
       "</table>\n",
       "</div>"
      ],
      "text/plain": [
       "  DATA_CADASTRO    ORIGEM  LINHA                 TIPO          TIPO_OCORR\n",
       "0    02/01/2019    VISITA    0.0  INFORMAÇÕES RÁPIDAS  ACHADOS & PERDIDOS\n",
       "1    02/01/2019  TELEFONE    0.0  INFORMAÇÕES RÁPIDAS  ACHADOS & PERDIDOS\n",
       "2    02/01/2019  TELEFONE    0.0  INFORMAÇÕES RÁPIDAS  ACHADOS & PERDIDOS\n",
       "3    02/01/2019    VISITA  201.0  INFORMAÇÕES RÁPIDAS  ACHADOS & PERDIDOS\n",
       "4    02/01/2019  TELEFONE    0.0  INFORMAÇÕES RÁPIDAS  ACHADOS & PERDIDOS"
      ]
     },
     "execution_count": 2,
     "metadata": {},
     "output_type": "execute_result"
    }
   ],
   "source": [
    "import pandas as pd\n",
    "import matplotlib.pyplot as plt\n",
    "import seaborn as sns\n",
    "import numpy as np\n",
    "\n",
    "df = pd.read_csv('data/carris_sacc.csv', delimiter=';')\n",
    "df['LINHA'] = df['LINHA'].fillna(0)\n",
    "df.head()"
   ]
  },
  {
   "cell_type": "code",
   "execution_count": 3,
   "id": "29870c6c",
   "metadata": {},
   "outputs": [
    {
     "data": {
      "text/plain": [
       "(66887, 5)"
      ]
     },
     "execution_count": 3,
     "metadata": {},
     "output_type": "execute_result"
    }
   ],
   "source": [
    "df.shape"
   ]
  },
  {
   "cell_type": "code",
   "execution_count": 4,
   "id": "87906a88",
   "metadata": {},
   "outputs": [
    {
     "data": {
      "text/plain": [
       "5"
      ]
     },
     "execution_count": 4,
     "metadata": {},
     "output_type": "execute_result"
    }
   ],
   "source": [
    "len(df.columns)"
   ]
  },
  {
   "cell_type": "code",
   "execution_count": 5,
   "id": "a6f94f23",
   "metadata": {},
   "outputs": [
    {
     "data": {
      "text/plain": [
       "array(['ACHADOS & PERDIDOS', 'OUTROS', 'HORÁRIOS',\n",
       "       'FALHA NO CUMPRIMENTO DO HORÁRIO', 'RECUSAR EMBARQUE DE CLIENTE',\n",
       "       'NEUTRO', 'MOTORISTA FALTOU COM EDUCAÇÃO',\n",
       "       'PARAR PRÓXIMO A CALÇADA', 'VEÍCULO COM PROBLEMAS MECÂNICOS',\n",
       "       'NEGAR DESEMBARQUE PELA PORTA DE SAÍDA', 'NEGATIVO',\n",
       "       'AGRADECIMENTO POR RESPOSTA', 'INDIVIDUAL', 'ACOMPANHAR',\n",
       "       'DIRIGIR COM IMPRUDÊNCIA', 'COLABORADOR', 'INFORMAÇÃO',\n",
       "       'VEÍCULO EM MAU ESTADO DE CONSERVAÇÃO', 'LINHA TURÍSTICA',\n",
       "       'ARRANCAR ANTES DE CONCLUIR EMBARQUE/DESEMBARQUE', 'IMAGEM',\n",
       "       'COBRADOR FALTOU COM EDUCAÇÃO',\n",
       "       'INTERROMPER VIAGEM SEM JUSTIFICATIVA',\n",
       "       'RECUSAR EMBARQUE DE CLIENTE NO CORREDOR', 'PROBLEMAS COM O TROCO',\n",
       "       'TRAFEGAR VEÍCULO COM MÁ OU SEM IDENTIFICAÇÃO', 'RESSARCIMENTO',\n",
       "       'ESTACIONAR FORA DA PARADA', 'MOTORISTA FUMANDO', 'ITINERÁRIO',\n",
       "       'RECUSAR EMBARQUE DE IDOSO', 'SUPERLOTAÇÃO',\n",
       "       'TRAFEGAR FORA DO ITINERÁRIO', 'MOTORISTA CONVERSANDO (DISTRAIDO)',\n",
       "       'PERMITIR EMBARQUE PELA PORTA DE SAÍDA',\n",
       "       'UTILIZAÇÃO DE APARELHOS SONOROS', 'HORÁRIOS 3 PORTAS',\n",
       "       'COBRADOR NÃO GIROU A ROLETA', 'VEÍCULO SUJO',\n",
       "       'MÚSICA/ TV NO ÔNIBUS', 'MONITOR FALTOU COM EDUCAÇÃO', 'POSITIVO',\n",
       "       'MELHORIAS NOS TERMINAIS', \"CARROS PARA PPD'S (3 PORTAS)\",\n",
       "       'E-MAIL', 'TABELA HORÁRIA', 'PROCURA DE OBJETO PERDIDO',\n",
       "       'ESTÁGIOS', 'MAU ATENDIMENTO AO CLIENTE (SACC)',\n",
       "       'INSTITUCIONAL CARRIS',\n",
       "       'PERMITIR DESEMBARQUE PELA PORTA DE ENTRADA', 'ATP',\n",
       "       'ALTERAÇÃO DE ITINERÁRIO', 'TELEFONE CARRIS', 'TRANSLADO ESPECIAL',\n",
       "       'MUDANÇA NAS PARADAS', 'CONCURSOS / CURRICULOS ', 'GREVE',\n",
       "       'AUMENTO DA CAPACIDADE DOS ÔNIBUS', 'DPVAT', 'FACEBOOK',\n",
       "       'SOLICITAÇÕES UAP', 'TELEFONE ', 'MUDANÇA DE ITINERÁRIO',\n",
       "       'INFORMAÇÕES GERAIS SOBRE A COMPANHIA ', 'TELEFONE CONSÓRCIOS',\n",
       "       'COBRADOR DORMINDO',\n",
       "       'FALTA DE INFORMAÇÃO/ COMUNICAÇÃO PARA OS CLIENTES',\n",
       "       'RECUSAR EMBARQUE/DESEMBARQUE DEFICIENTE', 'COLISÃO',\n",
       "       'AMPLIAÇÃO DO ATENDIMENTO DAS LINHAS',\n",
       "       'AGUARDA DADOS PARA REGISTRO', 'GPS DEMORA PARA ATUALIZAR',\n",
       "       'BALDEAÇÃO', 'NÃO IDENTIFCADO/SEM RELATO APP',\n",
       "       'PREVISÃO DE LINHA ERRADA NO APP', 'GPS DESLIGADO',\n",
       "       'AVALIAÇÃO DO MOTORISTA - APP',\n",
       "       'A PARADA NÃO CONSTA NO APLICATIVO', 'AR CONDICIONADO ESTRAGADO',\n",
       "       'LOTAÇÃO DO VEICULO APP', 'PARADA NÃO CONSTA NO APP',\n",
       "       'CARRO EXPRESSO/RECOLHE CONSTANDO ATIVO NO APP',\n",
       "       'PROBLEMA DE EMBARQUE NO TERMINAL',\n",
       "       'COLABORADOR ABANDONOU POSTO DE TRABALHO',\n",
       "       'CARACTERISTICAS DO CARRO ERRADAS NO APP',\n",
       "       'PREFIXO DO ONIBUS ERRADO NO APP',\n",
       "       'MOTORISTA SAIU ANTES DO HORÁRIO PREVISTO',\n",
       "       'LIMPEZA DO VEICULO APP', 'USO INDEVIDO DO TRI',\n",
       "       'RESSARCIMENTO ACIDENTE DE TRANSITO', 'AVALIAÇÃO DO MOTORISTA APP',\n",
       "       'SOLICITAÇÃO INFORMAÇÕES COMPLENTARES', 'ELEVADOR ESTRAGADO ',\n",
       "       'MOTORISTA SEM CRACHA ', 'VEICULOS ANDANDO EM COMBOIO',\n",
       "       'BARATAS NO VEICULO', 'FALTA DE EDUCAÇÃO DA TRIPULAÇAO',\n",
       "       'CRIAÇÃO DE NOVAS LINHAS', 'COMUNICAÇÃO COM OS CLIENTES',\n",
       "       'OMISSÃO DE SOCORRO TRIPULAÇÃO', 'RECUSA DE EMBARQUE ',\n",
       "       'CEDENCIA TRANSPORTE PARA ESCOLAS/EVENTOS', 'FURTO NO ONIBUS',\n",
       "       'COBRADOR FUMANDO', 'PESQUISA ACADEMICA',\n",
       "       'AR CONDICIONADO NOS ÔNIBUS', 'WIFI NOS ONIBUS',\n",
       "       'COBRADOR SEM CRACHA', 'TRANSPORTE DE ANIMAIS',\n",
       "       'OUTROS CONSORCIOS', 'PRODUTOS E PORTFOLIOS ', 'ATENDIMENTO SACC',\n",
       "       'USO INDEVIDO DOS BANCOS EXCLUSIVOS', 'DIREÇÃO IMPRUDENTE',\n",
       "       'REVISÃO DE HORÁRIOS', 'REQUISIÇÃO DE IMAGENS',\n",
       "       'BANCOS EXCLUSIVOS', 'PASSE LIVRE', 'PASSE GRATUITO',\n",
       "       'FALTA DE EDUCAÇÃO DA TRIPULAÇÃO', 'ASSEDIO DE COLABORADOR ',\n",
       "       'PARADA SEGURA ', 'TRIPULAÇÃO FALTOU COM PROCEDIMENTO ',\n",
       "       'TRAFEGAR COM PORTAS ABERTAS', 'TESTE DE SUGESTAO',\n",
       "       'INFORMAÇÕES SOBRE DECRETO COVID-19',\n",
       "       'DESCUMPRIMENTO DECRETO - COVID19', 'CUMPRIMENTO DE HORARIO',\n",
       "       'CUMPRIMENTO DE DECRETO COVID-19', 'NOTIFICAÇÕES DE ORGAOS ',\n",
       "       'TREINAMENTO DAS TRIPULAÇÕES', 'TABELA HORARIA',\n",
       "       'HORÁRIO - ELETRÔNICO', 'PASSAGEM ESCOLAR', 'DOAÇOES ',\n",
       "       'REPAROS ILUMINAÇÃO PARADAS/TERMINAIS',\n",
       "       'VISTA NA COMPANHIA CARRIS ',\n",
       "       'PROBLEMAS COM ESTRUTURAS DA CARRIS- TERMINAIS/PARADAS/ILUMINAÇÃO ',\n",
       "       'CARONAS', 'NÃO FORNECER FORMULÁRIO FALE COM A CARRIS',\n",
       "       'ASSENTOS PREFERENCIAIS', 'VALOR DA TARIFA ',\n",
       "       'OCORRENCIA MUITO ANTIGA - EPTC', 'OCORRÊNCIA DUPLICADA - EPTC',\n",
       "       'CONCURSOS PUBLICOS', 'PARADA SEGURA', 'CURRICULO',\n",
       "       'POLUIÇÃO SONORA', 'TELEFONE EPTC', 'ÔNIBUS MAIS CONFORTÁVEIS',\n",
       "       'CONFORTO DOS BANCOS/ ASSENTOS'], dtype=object)"
      ]
     },
     "execution_count": 5,
     "metadata": {},
     "output_type": "execute_result"
    }
   ],
   "source": [
    "df['TIPO_OCORR'].unique()"
   ]
  },
  {
   "cell_type": "code",
   "execution_count": null,
   "id": "47106007",
   "metadata": {},
   "outputs": [],
   "source": []
  }
 ],
 "metadata": {
  "kernelspec": {
   "display_name": "venv",
   "language": "python",
   "name": "python3"
  },
  "language_info": {
   "codemirror_mode": {
    "name": "ipython",
    "version": 3
   },
   "file_extension": ".py",
   "mimetype": "text/x-python",
   "name": "python",
   "nbconvert_exporter": "python",
   "pygments_lexer": "ipython3",
   "version": "3.13.5"
  }
 },
 "nbformat": 4,
 "nbformat_minor": 5
}
